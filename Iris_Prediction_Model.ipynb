{
 "cells": [
  {
   "cell_type": "code",
   "execution_count": 321,
   "id": "1af566a4-bbd7-45b2-a76b-56e46fb2e7e8",
   "metadata": {},
   "outputs": [],
   "source": [
    "import torch\n",
    "import torch.nn as nn\n",
    "import torch.nn.functional as F\n",
    "import numpy\n",
    "import pandas as pd\n",
    "import matplotlib.pyplot as plt\n",
    "%matplotlib inline"
   ]
  },
  {
   "cell_type": "code",
   "execution_count": 322,
   "id": "a3b979b1-2621-45ce-96f8-e371c25b7bca",
   "metadata": {},
   "outputs": [],
   "source": [
    "#Create a Model Class that inherts nn.module\n",
    "class Model(nn.Module):\n",
    "    #    Input Layer ( 4 features of a flower) -->\n",
    "    # -> Hidden Layer ( Some no of neurons) -->\n",
    "    # -> Output layer(3 Classes of Flower)\n",
    "\n",
    "    def __init__(self , in_features = 4 , h1 = 8 , h2 = 9  , out_features = 3 ): \n",
    "        # Two hidden layers h1 , h2\n",
    "        super().__init__() #instantiate our nn.Module\n",
    "        self.fc1 = nn.Linear(in_features , h1)\n",
    "        self.fc2 = nn.Linear(h1 , h2)\n",
    "        self.out = nn.Linear(h2 , out_features)\n",
    "        #fc1 and fc2 represent fully connected layers along with output which is also fullly connected\n",
    "\n",
    "    def forward(self , x ):\n",
    "        x = F.relu(self.fc1(x)) #relu : rectifier linear unit\n",
    "        x = F.relu(self.fc2(x))\n",
    "        x = F.relu(self.out(x))\n",
    "\n",
    "        return x"
   ]
  },
  {
   "cell_type": "code",
   "execution_count": 323,
   "id": "51cd55d5-0cf9-4cab-ad70-b51d851763d3",
   "metadata": {},
   "outputs": [],
   "source": [
    "# Seed Randomisation \n",
    "torch.manual_seed(41)\n",
    "#Create an instance of our model\n",
    "model = Model()"
   ]
  },
  {
   "cell_type": "code",
   "execution_count": 324,
   "id": "40a93481-e89d-418c-912b-1771a1991005",
   "metadata": {},
   "outputs": [],
   "source": [
    "url = 'https://gist.githubusercontent.com/netj/8836201/raw/6f9306ad21398ea43cba4f7d537619d0e07d5ae3/iris.csv'\n",
    "my_df = pd.read_csv(url)"
   ]
  },
  {
   "cell_type": "code",
   "execution_count": 325,
   "id": "8ea2cae4-df81-478d-ba13-a69fcebadff3",
   "metadata": {},
   "outputs": [
    {
     "data": {
      "text/html": [
       "<div>\n",
       "<style scoped>\n",
       "    .dataframe tbody tr th:only-of-type {\n",
       "        vertical-align: middle;\n",
       "    }\n",
       "\n",
       "    .dataframe tbody tr th {\n",
       "        vertical-align: top;\n",
       "    }\n",
       "\n",
       "    .dataframe thead th {\n",
       "        text-align: right;\n",
       "    }\n",
       "</style>\n",
       "<table border=\"1\" class=\"dataframe\">\n",
       "  <thead>\n",
       "    <tr style=\"text-align: right;\">\n",
       "      <th></th>\n",
       "      <th>sepal.length</th>\n",
       "      <th>sepal.width</th>\n",
       "      <th>petal.length</th>\n",
       "      <th>petal.width</th>\n",
       "      <th>variety</th>\n",
       "    </tr>\n",
       "  </thead>\n",
       "  <tbody>\n",
       "    <tr>\n",
       "      <th>0</th>\n",
       "      <td>5.1</td>\n",
       "      <td>3.5</td>\n",
       "      <td>1.4</td>\n",
       "      <td>0.2</td>\n",
       "      <td>Setosa</td>\n",
       "    </tr>\n",
       "    <tr>\n",
       "      <th>1</th>\n",
       "      <td>4.9</td>\n",
       "      <td>3.0</td>\n",
       "      <td>1.4</td>\n",
       "      <td>0.2</td>\n",
       "      <td>Setosa</td>\n",
       "    </tr>\n",
       "    <tr>\n",
       "      <th>2</th>\n",
       "      <td>4.7</td>\n",
       "      <td>3.2</td>\n",
       "      <td>1.3</td>\n",
       "      <td>0.2</td>\n",
       "      <td>Setosa</td>\n",
       "    </tr>\n",
       "    <tr>\n",
       "      <th>3</th>\n",
       "      <td>4.6</td>\n",
       "      <td>3.1</td>\n",
       "      <td>1.5</td>\n",
       "      <td>0.2</td>\n",
       "      <td>Setosa</td>\n",
       "    </tr>\n",
       "    <tr>\n",
       "      <th>4</th>\n",
       "      <td>5.0</td>\n",
       "      <td>3.6</td>\n",
       "      <td>1.4</td>\n",
       "      <td>0.2</td>\n",
       "      <td>Setosa</td>\n",
       "    </tr>\n",
       "  </tbody>\n",
       "</table>\n",
       "</div>"
      ],
      "text/plain": [
       "   sepal.length  sepal.width  petal.length  petal.width variety\n",
       "0           5.1          3.5           1.4          0.2  Setosa\n",
       "1           4.9          3.0           1.4          0.2  Setosa\n",
       "2           4.7          3.2           1.3          0.2  Setosa\n",
       "3           4.6          3.1           1.5          0.2  Setosa\n",
       "4           5.0          3.6           1.4          0.2  Setosa"
      ]
     },
     "execution_count": 325,
     "metadata": {},
     "output_type": "execute_result"
    }
   ],
   "source": [
    "my_df.head()"
   ]
  },
  {
   "cell_type": "code",
   "execution_count": 326,
   "id": "f9f2c470-622e-452e-a0f7-d716ff779ee3",
   "metadata": {},
   "outputs": [
    {
     "data": {
      "text/html": [
       "<div>\n",
       "<style scoped>\n",
       "    .dataframe tbody tr th:only-of-type {\n",
       "        vertical-align: middle;\n",
       "    }\n",
       "\n",
       "    .dataframe tbody tr th {\n",
       "        vertical-align: top;\n",
       "    }\n",
       "\n",
       "    .dataframe thead th {\n",
       "        text-align: right;\n",
       "    }\n",
       "</style>\n",
       "<table border=\"1\" class=\"dataframe\">\n",
       "  <thead>\n",
       "    <tr style=\"text-align: right;\">\n",
       "      <th></th>\n",
       "      <th>sepal.length</th>\n",
       "      <th>sepal.width</th>\n",
       "      <th>petal.length</th>\n",
       "      <th>petal.width</th>\n",
       "      <th>variety</th>\n",
       "    </tr>\n",
       "  </thead>\n",
       "  <tbody>\n",
       "    <tr>\n",
       "      <th>145</th>\n",
       "      <td>6.7</td>\n",
       "      <td>3.0</td>\n",
       "      <td>5.2</td>\n",
       "      <td>2.3</td>\n",
       "      <td>Virginica</td>\n",
       "    </tr>\n",
       "    <tr>\n",
       "      <th>146</th>\n",
       "      <td>6.3</td>\n",
       "      <td>2.5</td>\n",
       "      <td>5.0</td>\n",
       "      <td>1.9</td>\n",
       "      <td>Virginica</td>\n",
       "    </tr>\n",
       "    <tr>\n",
       "      <th>147</th>\n",
       "      <td>6.5</td>\n",
       "      <td>3.0</td>\n",
       "      <td>5.2</td>\n",
       "      <td>2.0</td>\n",
       "      <td>Virginica</td>\n",
       "    </tr>\n",
       "    <tr>\n",
       "      <th>148</th>\n",
       "      <td>6.2</td>\n",
       "      <td>3.4</td>\n",
       "      <td>5.4</td>\n",
       "      <td>2.3</td>\n",
       "      <td>Virginica</td>\n",
       "    </tr>\n",
       "    <tr>\n",
       "      <th>149</th>\n",
       "      <td>5.9</td>\n",
       "      <td>3.0</td>\n",
       "      <td>5.1</td>\n",
       "      <td>1.8</td>\n",
       "      <td>Virginica</td>\n",
       "    </tr>\n",
       "  </tbody>\n",
       "</table>\n",
       "</div>"
      ],
      "text/plain": [
       "     sepal.length  sepal.width  petal.length  petal.width    variety\n",
       "145           6.7          3.0           5.2          2.3  Virginica\n",
       "146           6.3          2.5           5.0          1.9  Virginica\n",
       "147           6.5          3.0           5.2          2.0  Virginica\n",
       "148           6.2          3.4           5.4          2.3  Virginica\n",
       "149           5.9          3.0           5.1          1.8  Virginica"
      ]
     },
     "execution_count": 326,
     "metadata": {},
     "output_type": "execute_result"
    }
   ],
   "source": [
    "my_df.tail()"
   ]
  },
  {
   "cell_type": "code",
   "execution_count": 327,
   "id": "0059fd31-c450-422f-9d6b-b770093b860f",
   "metadata": {},
   "outputs": [
    {
     "name": "stderr",
     "output_type": "stream",
     "text": [
      "C:\\Users\\ameyg\\AppData\\Local\\Temp\\ipykernel_14396\\3429711300.py:4: FutureWarning: Downcasting behavior in `replace` is deprecated and will be removed in a future version. To retain the old behavior, explicitly call `result.infer_objects(copy=False)`. To opt-in to the future behavior, set `pd.set_option('future.no_silent_downcasting', True)`\n",
      "  my_df['variety'] = my_df['variety'].replace('Virginica' , 2.0 )\n"
     ]
    },
    {
     "data": {
      "text/html": [
       "<div>\n",
       "<style scoped>\n",
       "    .dataframe tbody tr th:only-of-type {\n",
       "        vertical-align: middle;\n",
       "    }\n",
       "\n",
       "    .dataframe tbody tr th {\n",
       "        vertical-align: top;\n",
       "    }\n",
       "\n",
       "    .dataframe thead th {\n",
       "        text-align: right;\n",
       "    }\n",
       "</style>\n",
       "<table border=\"1\" class=\"dataframe\">\n",
       "  <thead>\n",
       "    <tr style=\"text-align: right;\">\n",
       "      <th></th>\n",
       "      <th>sepal.length</th>\n",
       "      <th>sepal.width</th>\n",
       "      <th>petal.length</th>\n",
       "      <th>petal.width</th>\n",
       "      <th>variety</th>\n",
       "    </tr>\n",
       "  </thead>\n",
       "  <tbody>\n",
       "    <tr>\n",
       "      <th>0</th>\n",
       "      <td>5.1</td>\n",
       "      <td>3.5</td>\n",
       "      <td>1.4</td>\n",
       "      <td>0.2</td>\n",
       "      <td>0.0</td>\n",
       "    </tr>\n",
       "    <tr>\n",
       "      <th>1</th>\n",
       "      <td>4.9</td>\n",
       "      <td>3.0</td>\n",
       "      <td>1.4</td>\n",
       "      <td>0.2</td>\n",
       "      <td>0.0</td>\n",
       "    </tr>\n",
       "    <tr>\n",
       "      <th>2</th>\n",
       "      <td>4.7</td>\n",
       "      <td>3.2</td>\n",
       "      <td>1.3</td>\n",
       "      <td>0.2</td>\n",
       "      <td>0.0</td>\n",
       "    </tr>\n",
       "    <tr>\n",
       "      <th>3</th>\n",
       "      <td>4.6</td>\n",
       "      <td>3.1</td>\n",
       "      <td>1.5</td>\n",
       "      <td>0.2</td>\n",
       "      <td>0.0</td>\n",
       "    </tr>\n",
       "    <tr>\n",
       "      <th>4</th>\n",
       "      <td>5.0</td>\n",
       "      <td>3.6</td>\n",
       "      <td>1.4</td>\n",
       "      <td>0.2</td>\n",
       "      <td>0.0</td>\n",
       "    </tr>\n",
       "    <tr>\n",
       "      <th>...</th>\n",
       "      <td>...</td>\n",
       "      <td>...</td>\n",
       "      <td>...</td>\n",
       "      <td>...</td>\n",
       "      <td>...</td>\n",
       "    </tr>\n",
       "    <tr>\n",
       "      <th>145</th>\n",
       "      <td>6.7</td>\n",
       "      <td>3.0</td>\n",
       "      <td>5.2</td>\n",
       "      <td>2.3</td>\n",
       "      <td>2.0</td>\n",
       "    </tr>\n",
       "    <tr>\n",
       "      <th>146</th>\n",
       "      <td>6.3</td>\n",
       "      <td>2.5</td>\n",
       "      <td>5.0</td>\n",
       "      <td>1.9</td>\n",
       "      <td>2.0</td>\n",
       "    </tr>\n",
       "    <tr>\n",
       "      <th>147</th>\n",
       "      <td>6.5</td>\n",
       "      <td>3.0</td>\n",
       "      <td>5.2</td>\n",
       "      <td>2.0</td>\n",
       "      <td>2.0</td>\n",
       "    </tr>\n",
       "    <tr>\n",
       "      <th>148</th>\n",
       "      <td>6.2</td>\n",
       "      <td>3.4</td>\n",
       "      <td>5.4</td>\n",
       "      <td>2.3</td>\n",
       "      <td>2.0</td>\n",
       "    </tr>\n",
       "    <tr>\n",
       "      <th>149</th>\n",
       "      <td>5.9</td>\n",
       "      <td>3.0</td>\n",
       "      <td>5.1</td>\n",
       "      <td>1.8</td>\n",
       "      <td>2.0</td>\n",
       "    </tr>\n",
       "  </tbody>\n",
       "</table>\n",
       "<p>150 rows × 5 columns</p>\n",
       "</div>"
      ],
      "text/plain": [
       "     sepal.length  sepal.width  petal.length  petal.width  variety\n",
       "0             5.1          3.5           1.4          0.2      0.0\n",
       "1             4.9          3.0           1.4          0.2      0.0\n",
       "2             4.7          3.2           1.3          0.2      0.0\n",
       "3             4.6          3.1           1.5          0.2      0.0\n",
       "4             5.0          3.6           1.4          0.2      0.0\n",
       "..            ...          ...           ...          ...      ...\n",
       "145           6.7          3.0           5.2          2.3      2.0\n",
       "146           6.3          2.5           5.0          1.9      2.0\n",
       "147           6.5          3.0           5.2          2.0      2.0\n",
       "148           6.2          3.4           5.4          2.3      2.0\n",
       "149           5.9          3.0           5.1          1.8      2.0\n",
       "\n",
       "[150 rows x 5 columns]"
      ]
     },
     "execution_count": 327,
     "metadata": {},
     "output_type": "execute_result"
    }
   ],
   "source": [
    "#Change vartiety coloumn to float values for training\n",
    "my_df['variety'] = my_df['variety'].replace('Setosa' , 0.0 )\n",
    "my_df['variety'] = my_df['variety'].replace('Versicolor' , 1.0 )\n",
    "my_df['variety'] = my_df['variety'].replace('Virginica' , 2.0 )\n",
    "my_df"
   ]
  },
  {
   "cell_type": "code",
   "execution_count": 328,
   "id": "49cc7818-3649-441e-b94a-835d40529ef2",
   "metadata": {},
   "outputs": [],
   "source": [
    "#Split data into train and test i.e X and Y respt.\n",
    "X = my_df.drop('variety' , axis=1 )\n",
    "Y = my_df['variety']"
   ]
  },
  {
   "cell_type": "code",
   "execution_count": 329,
   "id": "38cb6051-4457-45d7-9748-d9a219458aa3",
   "metadata": {},
   "outputs": [
    {
     "data": {
      "text/html": [
       "<div>\n",
       "<style scoped>\n",
       "    .dataframe tbody tr th:only-of-type {\n",
       "        vertical-align: middle;\n",
       "    }\n",
       "\n",
       "    .dataframe tbody tr th {\n",
       "        vertical-align: top;\n",
       "    }\n",
       "\n",
       "    .dataframe thead th {\n",
       "        text-align: right;\n",
       "    }\n",
       "</style>\n",
       "<table border=\"1\" class=\"dataframe\">\n",
       "  <thead>\n",
       "    <tr style=\"text-align: right;\">\n",
       "      <th></th>\n",
       "      <th>sepal.length</th>\n",
       "      <th>sepal.width</th>\n",
       "      <th>petal.length</th>\n",
       "      <th>petal.width</th>\n",
       "    </tr>\n",
       "  </thead>\n",
       "  <tbody>\n",
       "    <tr>\n",
       "      <th>0</th>\n",
       "      <td>5.1</td>\n",
       "      <td>3.5</td>\n",
       "      <td>1.4</td>\n",
       "      <td>0.2</td>\n",
       "    </tr>\n",
       "    <tr>\n",
       "      <th>1</th>\n",
       "      <td>4.9</td>\n",
       "      <td>3.0</td>\n",
       "      <td>1.4</td>\n",
       "      <td>0.2</td>\n",
       "    </tr>\n",
       "    <tr>\n",
       "      <th>2</th>\n",
       "      <td>4.7</td>\n",
       "      <td>3.2</td>\n",
       "      <td>1.3</td>\n",
       "      <td>0.2</td>\n",
       "    </tr>\n",
       "    <tr>\n",
       "      <th>3</th>\n",
       "      <td>4.6</td>\n",
       "      <td>3.1</td>\n",
       "      <td>1.5</td>\n",
       "      <td>0.2</td>\n",
       "    </tr>\n",
       "    <tr>\n",
       "      <th>4</th>\n",
       "      <td>5.0</td>\n",
       "      <td>3.6</td>\n",
       "      <td>1.4</td>\n",
       "      <td>0.2</td>\n",
       "    </tr>\n",
       "    <tr>\n",
       "      <th>...</th>\n",
       "      <td>...</td>\n",
       "      <td>...</td>\n",
       "      <td>...</td>\n",
       "      <td>...</td>\n",
       "    </tr>\n",
       "    <tr>\n",
       "      <th>145</th>\n",
       "      <td>6.7</td>\n",
       "      <td>3.0</td>\n",
       "      <td>5.2</td>\n",
       "      <td>2.3</td>\n",
       "    </tr>\n",
       "    <tr>\n",
       "      <th>146</th>\n",
       "      <td>6.3</td>\n",
       "      <td>2.5</td>\n",
       "      <td>5.0</td>\n",
       "      <td>1.9</td>\n",
       "    </tr>\n",
       "    <tr>\n",
       "      <th>147</th>\n",
       "      <td>6.5</td>\n",
       "      <td>3.0</td>\n",
       "      <td>5.2</td>\n",
       "      <td>2.0</td>\n",
       "    </tr>\n",
       "    <tr>\n",
       "      <th>148</th>\n",
       "      <td>6.2</td>\n",
       "      <td>3.4</td>\n",
       "      <td>5.4</td>\n",
       "      <td>2.3</td>\n",
       "    </tr>\n",
       "    <tr>\n",
       "      <th>149</th>\n",
       "      <td>5.9</td>\n",
       "      <td>3.0</td>\n",
       "      <td>5.1</td>\n",
       "      <td>1.8</td>\n",
       "    </tr>\n",
       "  </tbody>\n",
       "</table>\n",
       "<p>150 rows × 4 columns</p>\n",
       "</div>"
      ],
      "text/plain": [
       "     sepal.length  sepal.width  petal.length  petal.width\n",
       "0             5.1          3.5           1.4          0.2\n",
       "1             4.9          3.0           1.4          0.2\n",
       "2             4.7          3.2           1.3          0.2\n",
       "3             4.6          3.1           1.5          0.2\n",
       "4             5.0          3.6           1.4          0.2\n",
       "..            ...          ...           ...          ...\n",
       "145           6.7          3.0           5.2          2.3\n",
       "146           6.3          2.5           5.0          1.9\n",
       "147           6.5          3.0           5.2          2.0\n",
       "148           6.2          3.4           5.4          2.3\n",
       "149           5.9          3.0           5.1          1.8\n",
       "\n",
       "[150 rows x 4 columns]"
      ]
     },
     "execution_count": 329,
     "metadata": {},
     "output_type": "execute_result"
    }
   ],
   "source": [
    "X"
   ]
  },
  {
   "cell_type": "code",
   "execution_count": 330,
   "id": "0f733783-d483-4e2d-be4c-5b528ad7be20",
   "metadata": {},
   "outputs": [],
   "source": [
    "#CONVERT TO NUMPY ARRAYS\n",
    "X = X.values\n",
    "Y = Y.values"
   ]
  },
  {
   "cell_type": "code",
   "execution_count": 331,
   "id": "44c2b1db-507a-48b6-9138-80ef85349dd5",
   "metadata": {},
   "outputs": [
    {
     "data": {
      "text/plain": [
       "array([0., 0., 0., 0., 0., 0., 0., 0., 0., 0., 0., 0., 0., 0., 0., 0., 0.,\n",
       "       0., 0., 0., 0., 0., 0., 0., 0., 0., 0., 0., 0., 0., 0., 0., 0., 0.,\n",
       "       0., 0., 0., 0., 0., 0., 0., 0., 0., 0., 0., 0., 0., 0., 0., 0., 1.,\n",
       "       1., 1., 1., 1., 1., 1., 1., 1., 1., 1., 1., 1., 1., 1., 1., 1., 1.,\n",
       "       1., 1., 1., 1., 1., 1., 1., 1., 1., 1., 1., 1., 1., 1., 1., 1., 1.,\n",
       "       1., 1., 1., 1., 1., 1., 1., 1., 1., 1., 1., 1., 1., 1., 1., 2., 2.,\n",
       "       2., 2., 2., 2., 2., 2., 2., 2., 2., 2., 2., 2., 2., 2., 2., 2., 2.,\n",
       "       2., 2., 2., 2., 2., 2., 2., 2., 2., 2., 2., 2., 2., 2., 2., 2., 2.,\n",
       "       2., 2., 2., 2., 2., 2., 2., 2., 2., 2., 2., 2., 2., 2.])"
      ]
     },
     "execution_count": 331,
     "metadata": {},
     "output_type": "execute_result"
    }
   ],
   "source": [
    "Y"
   ]
  },
  {
   "cell_type": "code",
   "execution_count": 332,
   "id": "ea0cc212-a4c4-4aeb-acfb-9708f0557f69",
   "metadata": {},
   "outputs": [],
   "source": [
    "from sklearn.model_selection import train_test_split"
   ]
  },
  {
   "cell_type": "code",
   "execution_count": 333,
   "id": "aa86570b-8bfa-46e0-99f8-9845b48ef5ab",
   "metadata": {},
   "outputs": [],
   "source": [
    "#Train Test Split\n",
    "X_train , X_test , Y_train , Y_test = train_test_split(X , Y , test_size=0.2 , random_state = 41)\n",
    "#Sets test size 20% of the entire dataset randomly with seed 41"
   ]
  },
  {
   "cell_type": "code",
   "execution_count": 334,
   "id": "b0dee5a7-5f68-4dae-90e0-0adc974f6680",
   "metadata": {},
   "outputs": [],
   "source": [
    "#Convert X features to flaot tensors ( 32 bit )\n",
    "X_train = torch.FloatTensor(X_train)\n",
    "X_test = torch.FloatTensor(X_test)"
   ]
  },
  {
   "cell_type": "code",
   "execution_count": 335,
   "id": "1f9579d8-5c82-494e-beff-cef5996ac5c9",
   "metadata": {},
   "outputs": [],
   "source": [
    "#Convert Y features to long tensors ( 64 bit )\n",
    "Y_train = torch.LongTensor(Y_train)\n",
    "Y_test = torch.LongTensor(Y_test)"
   ]
  },
  {
   "cell_type": "code",
   "execution_count": 336,
   "id": "2db23cde-9950-4e31-a803-24caa5691f68",
   "metadata": {},
   "outputs": [
    {
     "data": {
      "text/plain": [
       "<bound method Module.parameters of Model(\n",
       "  (fc1): Linear(in_features=4, out_features=8, bias=True)\n",
       "  (fc2): Linear(in_features=8, out_features=9, bias=True)\n",
       "  (out): Linear(in_features=9, out_features=3, bias=True)\n",
       ")>"
      ]
     },
     "execution_count": 336,
     "metadata": {},
     "output_type": "execute_result"
    }
   ],
   "source": [
    "model.parameters  #Model parameters for reference"
   ]
  },
  {
   "cell_type": "code",
   "execution_count": 337,
   "id": "999e6324-4f92-4817-9d84-806cc3c8b96f",
   "metadata": {},
   "outputs": [],
   "source": [
    "#Set criterion of model to measure error\n",
    "criterion = nn.CrossEntropyLoss()\n",
    "#Using Adam optimizer\n",
    "# here , lr = learning rate of the model\n",
    "optimizer = torch.optim.Adam( model.parameters() , lr = 0.01 )"
   ]
  },
  {
   "cell_type": "markdown",
   "id": "ff8b04cd-64f3-413f-9de7-b9bf30312178",
   "metadata": {},
   "source": [
    "# TRAINING OUR MODEL"
   ]
  },
  {
   "cell_type": "code",
   "execution_count": 338,
   "id": "fdffb410-4e7e-447d-baf9-46cca0aa5831",
   "metadata": {},
   "outputs": [],
   "source": [
    "#Epochs : one run through all the training data\n",
    "epoch = 100 \n",
    "losses = []\n"
   ]
  },
  {
   "cell_type": "code",
   "execution_count": 339,
   "id": "15a45e7c-581b-4894-9c87-3b6d7b616e17",
   "metadata": {},
   "outputs": [
    {
     "name": "stdout",
     "output_type": "stream",
     "text": [
      "Epoch: 0 and Loss: 1.125203251838684\n",
      "Epoch: 10 and Loss: 1.0097211599349976\n",
      "Epoch: 20 and Loss: 0.8516881465911865\n",
      "Epoch: 30 and Loss: 0.6555684804916382\n",
      "Epoch: 40 and Loss: 0.45029523968696594\n",
      "Epoch: 50 and Loss: 0.27184727787971497\n",
      "Epoch: 60 and Loss: 0.15538781881332397\n",
      "Epoch: 70 and Loss: 0.09336268901824951\n",
      "Epoch: 80 and Loss: 0.06463459134101868\n",
      "Epoch: 90 and Loss: 0.05066271126270294\n"
     ]
    }
   ],
   "source": [
    "for i in range(epoch):\n",
    "    # Go forward and get a prediction\n",
    "    Y_pred = model.forward(X_train)  #Ger predicted result\n",
    "\n",
    "    # Measure loss ( will be high at first)\n",
    "    loss = criterion(Y_pred , Y_train) # predicted values VS train value\n",
    "\n",
    "    # Keep track of losses\n",
    "    losses.append(loss.detach().numpy())\n",
    "\n",
    "    # Print every 10 epochs\n",
    "    if i % 10 == 0:\n",
    "        print(f'Epoch: {i} and Loss: {loss}')\n",
    "\n",
    "    #Back-Propogation ( To optimize results) \n",
    "    optimizer.zero_grad()\n",
    "    loss.backward()\n",
    "    optimizer.step()\n",
    "    "
   ]
  },
  {
   "cell_type": "markdown",
   "id": "48d19b12-bde2-44aa-bcbe-f9bb6460f60c",
   "metadata": {},
   "source": [
    "# Graphing our losses"
   ]
  },
  {
   "cell_type": "code",
   "execution_count": 340,
   "id": "4094db8d-5d46-44f3-949b-3f7c924c39e6",
   "metadata": {},
   "outputs": [
    {
     "data": {
      "text/plain": [
       "Text(0.5, 0, 'Epochs')"
      ]
     },
     "execution_count": 340,
     "metadata": {},
     "output_type": "execute_result"
    },
    {
     "data": {
      "image/png": "[encoded data removed]",
      "text/plain": [
       "<Figure size 640x480 with 1 Axes>"
      ]
     },
     "metadata": {},
     "output_type": "display_data"
    }
   ],
   "source": [
    "plt.plot(range(epoch) , losses)\n",
    "plt.ylabel(\"Losses / Error\")\n",
    "plt.xlabel(\"Epochs\")"
   ]
  },
  {
   "cell_type": "markdown",
   "id": "281b24df-5f35-41e8-bbea-9c02d1719849",
   "metadata": {},
   "source": [
    "# Evaluate Model on Test Data Set"
   ]
  },
  {
   "cell_type": "code",
   "execution_count": 341,
   "id": "2972b120-4753-4c5a-9ced-0cec291a431c",
   "metadata": {},
   "outputs": [],
   "source": [
    "with torch.no_grad(): #Turn off back propogation\n",
    "    #We use the 20% set i.e test set we defined earlier\n",
    "    Y_eval = model.forward(X_test) \n",
    "\n",
    "    #Fine the loss/error\n",
    "    loss = criterion(Y_eval , Y_test)"
   ]
  },
  {
   "cell_type": "code",
   "execution_count": 342,
   "id": "cf655dfd-a43c-4d13-9d60-ff5423fcdab9",
   "metadata": {},
   "outputs": [
    {
     "data": {
      "text/plain": [
       "tensor(0.1295)"
      ]
     },
     "execution_count": 342,
     "metadata": {},
     "output_type": "execute_result"
    }
   ],
   "source": [
    "loss #not great , it should be equal to previous train loss"
   ]
  },
  {
   "cell_type": "code",
   "execution_count": 343,
   "id": "4d532a7f-6093-4232-8b47-01c92e7477cc",
   "metadata": {},
   "outputs": [
    {
     "name": "stdout",
     "output_type": "stream",
     "text": [
      "1.) tensor([0.0000, 7.4447, 9.9152])     \t 2   \t 2\n",
      "2.) tensor([ 0.0000,  7.7042, 14.3743])     \t 2   \t 2\n",
      "3.) tensor([ 0.0000,  9.1280, 15.1753])     \t 2   \t 2\n",
      "4.) tensor([0.2102, 8.3280, 4.5364])     \t 1   \t 1\n",
      "5.) tensor([ 0.0000,  8.4035, 12.4779])     \t 2   \t 2\n",
      "6.) tensor([1.6255, 8.0527, 1.9799])     \t 1   \t 1\n",
      "7.) tensor([0.0000, 8.0659, 9.2757])     \t 2   \t 2\n",
      "8.) tensor([0.3294, 8.4105, 4.3070])     \t 1   \t 1\n",
      "9.) tensor([ 0.0000,  8.2367, 10.8423])     \t 2   \t 2\n",
      "10.) tensor([ 0.0000,  8.1941, 15.2505])     \t 2   \t 2\n",
      "11.) tensor([0.0000, 7.9806, 8.7350])     \t 2   \t 2\n",
      "12.) tensor([8.9715, 3.4637, 0.0000])     \t 0   \t 0\n",
      "13.) tensor([8.0554, 3.1741, 0.0000])     \t 0   \t 0\n",
      "14.) tensor([2.2377, 6.4805, 0.4353])     \t 1   \t 1\n",
      "15.) tensor([8.0202, 3.9148, 0.0000])     \t 0   \t 0\n",
      "16.) tensor([0.0000, 8.1254, 8.0101])     \t 2   \t 1\n",
      "17.) tensor([8.3626, 3.3009, 0.0000])     \t 0   \t 0\n",
      "18.) tensor([0.0000, 7.6349, 9.5548])     \t 1   \t 2\n",
      "19.) tensor([8.9383, 3.4532, 0.0000])     \t 0   \t 0\n",
      "20.) tensor([7.5003, 3.3025, 0.0000])     \t 0   \t 0\n",
      "21.) tensor([1.9760, 7.0980, 1.0766])     \t 1   \t 1\n",
      "22.) tensor([ 0.0000,  8.4465, 14.0281])     \t 2   \t 2\n",
      "23.) tensor([8.1228, 3.8523, 0.0000])     \t 0   \t 0\n",
      "24.) tensor([8.5193, 3.3207, 0.0000])     \t 0   \t 0\n",
      "25.) tensor([2.1818, 7.3382, 0.9439])     \t 1   \t 1\n",
      "26.) tensor([1.5164, 7.7569, 1.9648])     \t 1   \t 1\n",
      "27.) tensor([0.0574, 8.6209, 5.0719])     \t 1   \t 1\n",
      "28.) tensor([1.7819, 7.5184, 1.5399])     \t 1   \t 1\n",
      "29.) tensor([8.8647, 3.4299, 0.0000])     \t 0   \t 0\n",
      "30.) tensor([0.0000, 8.2085, 5.3598])     \t 1   \t 1\n",
      "\n",
      "Correct Predictions = 28\n"
     ]
    }
   ],
   "source": [
    "correct = 0  # Variable to find how many predictions we got right\n",
    "\n",
    "with torch.no_grad():\n",
    "    for i , data in enumerate(X_test):\n",
    "        Y_val = model.forward(data)\n",
    "        \n",
    "        # Will tell us the prediction of the neural network\n",
    "        print(f'{i+1}.) {str(Y_val)}     \\t {Y_test[i]}   \\t {Y_val.argmax().item()}')\n",
    "        #The highest number in each row is the prediction for that image\n",
    "\n",
    "        #Correcrt OR not\n",
    "        if Y_val.argmax().item() == Y_test[i]:\n",
    "            correct += 1\n",
    "\n",
    "    print(f'\\nCorrect Predictions = {correct}')"
   ]
  },
  {
   "cell_type": "markdown",
   "id": "3bbb3987-677a-476f-83b2-702c2737039a",
   "metadata": {},
   "source": [
    "# WE GOT 28 OUT OF 30 CORRECT"
   ]
  },
  {
   "cell_type": "code",
   "execution_count": 344,
   "id": "2c7f9261-0fc0-4dd2-bb60-b27de98e2a56",
   "metadata": {},
   "outputs": [],
   "source": [
    "new_iris = torch.tensor([4.8,3.4,1.9,.2])"
   ]
  },
  {
   "cell_type": "code",
   "execution_count": 345,
   "id": "02b547ff-60b0-4c6d-a598-33794983f0cd",
   "metadata": {},
   "outputs": [
    {
     "name": "stdout",
     "output_type": "stream",
     "text": [
      "tensor([8.1855, 3.4025, 0.0000])\n"
     ]
    }
   ],
   "source": [
    "with torch.no_grad():\n",
    "    print(model(new_iris))"
   ]
  },
  {
   "cell_type": "markdown",
   "id": "ceae5841-7dfc-4df2-bb74-9789fbff8dca",
   "metadata": {},
   "source": [
    "Since 8.1855 is the biggest number , we can tell it is a Setosa"
   ]
  },
  {
   "cell_type": "markdown",
   "id": "7f068fda-7838-4344-8ed8-df02854f4f1f",
   "metadata": {},
   "source": [
    "# Save our NN model"
   ]
  },
  {
   "cell_type": "code",
   "execution_count": 346,
   "id": "76d8e4c3-9a47-4eff-9967-0845be1a05cd",
   "metadata": {},
   "outputs": [],
   "source": [
    "torch.save(model.state_dict() , 'iris_prediction_model.pt')"
   ]
  },
  {
   "cell_type": "markdown",
   "id": "a90688fa-d1e3-4f8d-a04a-e844e1d72932",
   "metadata": {},
   "source": [
    "# Load the model"
   ]
  },
  {
   "cell_type": "code",
   "execution_count": 347,
   "id": "8f87793d-6d22-41fd-bb67-faa8127857bb",
   "metadata": {},
   "outputs": [
    {
     "data": {
      "text/plain": [
       "<All keys matched successfully>"
      ]
     },
     "execution_count": 347,
     "metadata": {},
     "output_type": "execute_result"
    }
   ],
   "source": [
    "new_model = Model()\n",
    "new_model.load_state_dict(torch.load('iris_prediction_model.pt'))"
   ]
  },
  {
   "cell_type": "code",
   "execution_count": 348,
   "id": "07b398f5-297a-4749-b5d9-c04adb26b00a",
   "metadata": {},
   "outputs": [
    {
     "data": {
      "text/plain": [
       "Model(\n",
       "  (fc1): Linear(in_features=4, out_features=8, bias=True)\n",
       "  (fc2): Linear(in_features=8, out_features=9, bias=True)\n",
       "  (out): Linear(in_features=9, out_features=3, bias=True)\n",
       ")"
      ]
     },
     "execution_count": 348,
     "metadata": {},
     "output_type": "execute_result"
    }
   ],
   "source": [
    "new_model.eval()"
   ]
  },
  {
   "cell_type": "code",
   "execution_count": null,
   "id": "337e08eb-6a21-41fa-bd5d-5a16435c05a4",
   "metadata": {},
   "outputs": [],
   "source": []
  }
 ],
 "metadata": {
  "kernelspec": {
   "display_name": "Python 3 (ipykernel)",
   "language": "python",
   "name": "python3"
  },
  "language_info": {
   "codemirror_mode": {
    "name": "ipython",
    "version": 3
   },
   "file_extension": ".py",
   "mimetype": "text/x-python",
   "name": "python",
   "nbconvert_exporter": "python",
   "pygments_lexer": "ipython3",
   "version": "3.11.9"
  }
 },
 "nbformat": 4,
 "nbformat_minor": 5
}
